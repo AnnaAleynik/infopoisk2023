{
  "nbformat": 4,
  "nbformat_minor": 0,
  "metadata": {
    "colab": {
      "provenance": []
    },
    "kernelspec": {
      "name": "python3",
      "display_name": "Python 3"
    },
    "language_info": {
      "name": "python"
    }
  },
  "cells": [
    {
      "cell_type": "code",
      "execution_count": null,
      "metadata": {
        "id": "iiKxEwp6jE9L"
      },
      "outputs": [],
      "source": [
        "import urllib.request as urllib2\n",
        "from bs4 import *\n",
        "from urllib.parse  import urljoin\n",
        "from random import randrange"
      ]
    },
    {
      "cell_type": "code",
      "source": [
        "from google.colab import drive\n",
        "drive.mount('/content/drive')"
      ],
      "metadata": {
        "colab": {
          "base_uri": "https://localhost:8080/"
        },
        "id": "0Tfd9YddlefN",
        "outputId": "44f53885-c40c-4aa3-a656-4226f6c514c1"
      },
      "execution_count": null,
      "outputs": [
        {
          "output_type": "stream",
          "name": "stdout",
          "text": [
            "Drive already mounted at /content/drive; to attempt to forcibly remount, call drive.mount(\"/content/drive\", force_remount=True).\n"
          ]
        }
      ]
    },
    {
      "cell_type": "code",
      "source": [
        "folder = '4  курс/Информационный поиск'"
      ],
      "metadata": {
        "id": "FiMSRNxW7oYT"
      },
      "execution_count": null,
      "outputs": []
    },
    {
      "cell_type": "code",
      "source": [
        "def crawl(pages):\n",
        "    indexed_url = []\n",
        "    for page in pages:\n",
        "        if page not in indexed_url:\n",
        "            indexed_url.append(page)\n",
        "            try:\n",
        "                c = urllib2.urlopen(page)\n",
        "            except:\n",
        "                print( \"Could not open %s\" % page)\n",
        "                continue\n",
        "            soup = BeautifulSoup(c.read())\n",
        "            links = soup('a') #finding all the sub_links\n",
        "            for link in links:\n",
        "                if 'href' in dict(link.attrs):\n",
        "                    url = urljoin(page, link['href'])\n",
        "                    url = url.split('#')[0] \n",
        "                    indexed_url.append(url)\n",
        "        pages = indexed_url\n",
        "    return indexed_url"
      ],
      "metadata": {
        "id": "TL6wc126jwnl"
      },
      "execution_count": null,
      "outputs": []
    },
    {
      "cell_type": "code",
      "source": [
        "urlList = set()\n",
        "urlList.add('https://journal.tinkoff.ru/flows/invest/')\n",
        "print(urlList)\n",
        "\n",
        "\n",
        "while len(urlList) < 100:\n",
        "    for i in list(urlList):\n",
        "        urls = crawl([i])\n",
        "        urlList.update(urls)\n",
        "        if(len(urlList) > 100):\n",
        "            break\n",
        "    # print(len(urlList))\n",
        "    if(len(urlList) > 150):\n",
        "        break"
      ],
      "metadata": {
        "colab": {
          "base_uri": "https://localhost:8080/"
        },
        "id": "JpGronRfpejs",
        "outputId": "130606ac-df72-47d5-b3e7-f3c828231209"
      },
      "execution_count": null,
      "outputs": [
        {
          "output_type": "stream",
          "name": "stdout",
          "text": [
            "{'https://journal.tinkoff.ru/flows/invest/'}\n",
            "79\n",
            "Could not open https://journal.tinkoff.ru/search/?q=кредитная+история\n",
            "Could not open https://journal.tinkoff.ru/search/?q=дневник+трат\n",
            "126\n"
          ]
        }
      ]
    },
    {
      "cell_type": "code",
      "source": [
        "with open('/content/drive/My Drive/' + folder + '/links.txt', 'w') as f:\n",
        "  for item in urlList:\n",
        "        f.write(\"%s\\n\" % item)"
      ],
      "metadata": {
        "id": "OfrLJB4Syb10"
      },
      "execution_count": null,
      "outputs": []
    },
    {
      "cell_type": "code",
      "source": [
        "# Скачиваем ссылочки в файлики\n",
        "import urllib\n",
        "counter = 0\n",
        "with open('/content/drive/My Drive/' + folder + '/index.txt', 'w') as f:\n",
        "    with open('/content/drive/My Drive/' + folder + '/links.txt') as file:\n",
        "        for line in file:\n",
        "            name = '/content/drive/My Drive/' + str(counter) + '.html'\n",
        "            try:\n",
        "                urllib.request.urlretrieve(line, name)\n",
        "                counter += 1\n",
        "                # print(counter)\n",
        "                # Собираем строку в файлик индекса\n",
        "                result_string = line.replace(\"\\n\", \"\") + ',' + name + '\\n'\n",
        "                f.write(result_string)\n",
        "                if(counter == 100):\n",
        "                    print('Time to break up')\n",
        "                    f.close()\n",
        "                    break\n",
        "            except:\n",
        "                print( \"Could not open %s\" % line)\n",
        "                continue"
      ],
      "metadata": {
        "colab": {
          "base_uri": "https://localhost:8080/"
        },
        "id": "QlnkNVIe9jBG",
        "outputId": "3003b4c6-61d1-4c52-c05f-1911a23352a2"
      },
      "execution_count": null,
      "outputs": [
        {
          "output_type": "stream",
          "name": "stdout",
          "text": [
            "Could not open https://journal.tinkoff.ru/search/?q=кредитная+история\n",
            "\n",
            "Could not open https://journal.tinkoff.ru/search/?q=дневник+трат\n",
            "\n",
            "Could not open https://journal.tinkoff.ru/search/?q=тесты\n",
            "\n",
            "Could not open https://journal.tinkoff.ru/search/?q=ипотека\n",
            "\n",
            "Could not open https://tiktok.com/@tinkoffjournal\n",
            "\n",
            "Could not open https://journal.tinkoff.ru/news/sber-1m2023/\n",
            "\n",
            "Could not open https://journal.tinkoff.ru/schet-v-belarusi/\n",
            "\n",
            "Could not open https://journal.tinkoff.ru/flows/\n",
            "\n"
          ]
        }
      ]
    },
    {
      "cell_type": "markdown",
      "source": [
        "_______"
      ],
      "metadata": {
        "id": "CeiZnTUhBgpK"
      }
    }
  ]
}